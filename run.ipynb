{
 "cells": [
  {
   "cell_type": "code",
   "execution_count": 8,
   "id": "b4801975",
   "metadata": {},
   "outputs": [
    {
     "name": "stdout",
     "output_type": "stream",
     "text": [
      "Generating geometry...\n",
      "Generating water...\n",
      "Generating mountains...\n",
      "Generating hills...\n",
      "Generating forests...\n",
      "Generating rivers...\n",
      "Number of mountain assets loaded: 4\n",
      "Number of tree assets loaded: 4\n",
      "Number of hill assets loaded: 1\n",
      "3840\n",
      "Map saved to mymap.png\n"
     ]
    }
   ],
   "source": [
    "!python -m map_gen_2.main"
   ]
  }
 ],
 "metadata": {
  "kernelspec": {
   "display_name": "base",
   "language": "python",
   "name": "python3"
  },
  "language_info": {
   "codemirror_mode": {
    "name": "ipython",
    "version": 3
   },
   "file_extension": ".py",
   "mimetype": "text/x-python",
   "name": "python",
   "nbconvert_exporter": "python",
   "pygments_lexer": "ipython3",
   "version": "3.12.7"
  }
 },
 "nbformat": 4,
 "nbformat_minor": 5
}
